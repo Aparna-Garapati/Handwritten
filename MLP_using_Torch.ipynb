{
  "cells": [
    {
      "cell_type": "code",
      "execution_count": null,
      "metadata": {
        "id": "_wAAsPgnqPU7"
      },
      "outputs": [],
      "source": [
        "import torch #It is core PyTorch library, used for tensor operations, creating models and performing computations on GPUs.\n",
        "import torch.nn as nn # It Contains modules, layers, and functions to build neural networks (e.g., nn.Linear, nn.ReLU, etc.).\n",
        "import torch.optim as optim #Provides optimization algorithms to update model parameters during training.\n",
        "from torch.utils.data import DataLoader # A utility to handle data batching and shuffling during training and testing.\n",
        "import torchvision # A library that includes pre-trained models, datasets, and utility functions for image data.\n",
        "import torchvision.transforms as transforms # Functions to preprocess and augment images, such as resizing, normalizing, and converting to tensors.\n",
        "\n",
        "\n",
        "\n"
      ]
    },
    {
      "cell_type": "code",
      "execution_count": null,
      "metadata": {
        "id": "qLgoT3_6qpLM"
      },
      "outputs": [],
      "source": [
        "# transform is used to Chains multiple transformations together.\n",
        "transform=transforms.Compose([transforms.Grayscale(num_output_channels=1),\n",
        "                              transforms.Resize((28,28)),\n",
        "                              transforms.ToTensor(), # Converts image data to PyTorch tensors and scales pixel values from [0, 255] to [0, 1].\n",
        "                              transforms.Normalize((0.5),(0.5))]) # Normalize normalizes image data."
      ]
    },
    {
      "cell_type": "code",
      "execution_count": null,
      "metadata": {
        "id": "oBL3OqsiqvPn",
        "colab": {
          "base_uri": "https://localhost:8080/"
        },
        "outputId": "85ff4ce6-bbf1-4608-fb6f-8681417693a1"
      },
      "outputs": [
        {
          "output_type": "stream",
          "name": "stdout",
          "text": [
            "Downloading http://yann.lecun.com/exdb/mnist/train-images-idx3-ubyte.gz\n",
            "Failed to download (trying next):\n",
            "HTTP Error 403: Forbidden\n",
            "\n",
            "Downloading https://ossci-datasets.s3.amazonaws.com/mnist/train-images-idx3-ubyte.gz\n",
            "Downloading https://ossci-datasets.s3.amazonaws.com/mnist/train-images-idx3-ubyte.gz to /data/MNIST/raw/train-images-idx3-ubyte.gz\n"
          ]
        },
        {
          "output_type": "stream",
          "name": "stderr",
          "text": [
            "100%|██████████| 9.91M/9.91M [00:00<00:00, 49.7MB/s]\n"
          ]
        },
        {
          "output_type": "stream",
          "name": "stdout",
          "text": [
            "Extracting /data/MNIST/raw/train-images-idx3-ubyte.gz to /data/MNIST/raw\n",
            "\n",
            "Downloading http://yann.lecun.com/exdb/mnist/train-labels-idx1-ubyte.gz\n",
            "Failed to download (trying next):\n",
            "HTTP Error 403: Forbidden\n",
            "\n",
            "Downloading https://ossci-datasets.s3.amazonaws.com/mnist/train-labels-idx1-ubyte.gz\n",
            "Downloading https://ossci-datasets.s3.amazonaws.com/mnist/train-labels-idx1-ubyte.gz to /data/MNIST/raw/train-labels-idx1-ubyte.gz\n"
          ]
        },
        {
          "output_type": "stream",
          "name": "stderr",
          "text": [
            "100%|██████████| 28.9k/28.9k [00:00<00:00, 1.98MB/s]"
          ]
        },
        {
          "output_type": "stream",
          "name": "stdout",
          "text": [
            "Extracting /data/MNIST/raw/train-labels-idx1-ubyte.gz to /data/MNIST/raw\n",
            "\n",
            "Downloading http://yann.lecun.com/exdb/mnist/t10k-images-idx3-ubyte.gz\n"
          ]
        },
        {
          "output_type": "stream",
          "name": "stderr",
          "text": [
            "\n"
          ]
        },
        {
          "output_type": "stream",
          "name": "stdout",
          "text": [
            "Failed to download (trying next):\n",
            "HTTP Error 403: Forbidden\n",
            "\n",
            "Downloading https://ossci-datasets.s3.amazonaws.com/mnist/t10k-images-idx3-ubyte.gz\n",
            "Downloading https://ossci-datasets.s3.amazonaws.com/mnist/t10k-images-idx3-ubyte.gz to /data/MNIST/raw/t10k-images-idx3-ubyte.gz\n"
          ]
        },
        {
          "output_type": "stream",
          "name": "stderr",
          "text": [
            "100%|██████████| 1.65M/1.65M [00:00<00:00, 12.8MB/s]\n"
          ]
        },
        {
          "output_type": "stream",
          "name": "stdout",
          "text": [
            "Extracting /data/MNIST/raw/t10k-images-idx3-ubyte.gz to /data/MNIST/raw\n",
            "\n",
            "Downloading http://yann.lecun.com/exdb/mnist/t10k-labels-idx1-ubyte.gz\n",
            "Failed to download (trying next):\n",
            "HTTP Error 403: Forbidden\n",
            "\n",
            "Downloading https://ossci-datasets.s3.amazonaws.com/mnist/t10k-labels-idx1-ubyte.gz\n",
            "Downloading https://ossci-datasets.s3.amazonaws.com/mnist/t10k-labels-idx1-ubyte.gz to /data/MNIST/raw/t10k-labels-idx1-ubyte.gz\n"
          ]
        },
        {
          "output_type": "stream",
          "name": "stderr",
          "text": [
            "100%|██████████| 4.54k/4.54k [00:00<00:00, 7.70MB/s]"
          ]
        },
        {
          "output_type": "stream",
          "name": "stdout",
          "text": [
            "Extracting /data/MNIST/raw/t10k-labels-idx1-ubyte.gz to /data/MNIST/raw\n",
            "\n"
          ]
        },
        {
          "output_type": "stream",
          "name": "stderr",
          "text": [
            "\n"
          ]
        }
      ],
      "source": [
        "trainset=torchvision.datasets.MNIST(root=\"/data\",train=True,download=True,transform=transform) #torchvision.datasets.MNIST,downloads and loads the MNIST dataset\n",
        "testset=torchvision.datasets.MNIST(root=\"/data\",train=False,download=True,transform=transform)\n",
        "trainloader=DataLoader(trainset,batch_size=64,shuffle=True) # DataLoader Splits the dataset into small batches of size 64 for training\n",
        "testloader=DataLoader(testset,batch_size=64,shuffle=False)"
      ]
    },
    {
      "cell_type": "code",
      "execution_count": null,
      "metadata": {
        "id": "_Q7LNZk9q5hr"
      },
      "outputs": [],
      "source": [
        "import torch\n",
        "import torch.nn as nn\n",
        "\n",
        "class MLP(nn.Module):\n",
        "    def __init__(self):\n",
        "        super(MLP, self).__init__()\n",
        "        # Original layers\n",
        "        self.fc1 = nn.Linear(28*28, 128)  # Input layer\n",
        "        self.fc2 = nn.Linear(128, 64)    # Hidden layer 1\n",
        "        self.fc3 = nn.Linear(64, 32)     # Hidden layer 2\n",
        "        self.fc4 = nn.Linear(32, 10)     # Output layer\n",
        "\n",
        "        # Activation function\n",
        "        self.relu = nn.ReLU()\n",
        "\n",
        "    def forward(self, x):\n",
        "        # Flatten input\n",
        "        x = x.view(-1, 28*28)\n",
        "\n",
        "        # Pass through layers with ReLU activations\n",
        "        x = self.relu(self.fc1(x))  # First layer + ReLU\n",
        "        x = self.relu(self.fc2(x))  # Second layer + ReLU\n",
        "        x = self.relu(self.fc3(x))  # Third layer + ReLU\n",
        "        x = self.fc4(x)             # Output layer (no activation for logits)\n",
        "\n",
        "        return x\n",
        "\n"
      ]
    },
    {
      "cell_type": "code",
      "execution_count": null,
      "metadata": {
        "id": "SK5Qgx9Cq_nS"
      },
      "outputs": [],
      "source": [
        "model = MLP()# Instantiate the model, loss function, and optimizer\n",
        "criterion = nn.CrossEntropyLoss()\n",
        "optimizer = optim.Adam(model.parameters(),lr=0.001)\n",
        "\n"
      ]
    },
    {
      "cell_type": "code",
      "execution_count": null,
      "metadata": {
        "colab": {
          "base_uri": "https://localhost:8080/"
        },
        "id": "zLwGsrgB5NbN",
        "outputId": "48408282-4ffe-405e-c30a-ae1b98b84965"
      },
      "outputs": [
        {
          "output_type": "stream",
          "name": "stdout",
          "text": [
            "Epoch 1/5, Loss: 0.46435056929426916 , Accuracy: 85.84833333333333\n",
            "Epoch 2/5, Loss: 0.2120305897711691 , Accuracy: 93.60666666666667\n",
            "Epoch 3/5, Loss: 0.15424640882394905 , Accuracy: 95.26\n",
            "Epoch 4/5, Loss: 0.12255284585543215 , Accuracy: 96.20833333333333\n",
            "Epoch 5/5, Loss: 0.10917686987747706 , Accuracy: 96.65\n"
          ]
        }
      ],
      "source": [
        "# Training loop with increased epochs\n",
        "epochs = 5\n",
        "for epoch in range(epochs):\n",
        "  model.train() # Set model to training mode\n",
        "  running_loss = 0.0\n",
        "  correct =0\n",
        "  total =0\n",
        "  for inputs, labels in trainloader:\n",
        "    optimizer.zero_grad()\n",
        "    outputs = model(inputs)    # Forward pass\n",
        "    loss = criterion(outputs ,labels )\n",
        "        # Backward pass and optimization\n",
        "    loss.backward()\n",
        "    optimizer.step()\n",
        " # Calculate statistics\n",
        "    running_loss += loss.item()\n",
        "    _,predicted = torch.max(outputs,1)\n",
        "    total +=labels.size(0)\n",
        "    correct +=(predicted ==labels).sum().item()\n",
        "\n",
        "  print(f\"Epoch {epoch+1}/{epochs}, Loss: {running_loss/len(trainloader)} , Accuracy: {100*correct/total}\")"
      ]
    },
    {
      "cell_type": "code",
      "source": [
        "model.eval() # Set model to evaluation mode\n",
        "correct =0\n",
        "total =0\n",
        "act_labels =torch.tensor([])\n",
        "model_predicted =torch.tensor([])\n",
        "\n",
        "with torch.no_grad():\n",
        "  for inputs, labels in testloader:\n",
        "    outputs =model(inputs)\n",
        "    act_labels = torch.cat((act_labels ,labels ) ,dim =0)\n",
        "    _, predicted = torch.max(outputs,1)\n",
        "    model_predicted = torch.cat((model_predicted ,predicted),dim=0 )\n",
        "    total +=labels.size(0)\n",
        "    correct += (predicted ==labels).sum().item()\n",
        "print(f\"Test Accuracy: {100*correct/total:.2f}\")"
      ],
      "metadata": {
        "id": "-XgzVrwo76A3",
        "outputId": "4c5292a6-e2d3-4470-a1b0-9f5397d1bf5c",
        "colab": {
          "base_uri": "https://localhost:8080/"
        }
      },
      "execution_count": null,
      "outputs": [
        {
          "output_type": "stream",
          "name": "stdout",
          "text": [
            "Test Accuracy: 96.77\n"
          ]
        }
      ]
    },
    {
      "cell_type": "code",
      "execution_count": null,
      "metadata": {
        "id": "SfbCWTTH64LI"
      },
      "outputs": [],
      "source": [
        "from PIL import Image\n",
        "def test_single_img(img_path ,model):\n",
        "  img = Image.open(img_path)\n",
        "  img  = transform(img).unsqueeze(0)\n",
        "  model.eval()\n",
        "\n",
        "  with torch.no_grad():\n",
        "    outputs = model(img)\n",
        "    _,predicted = torch.max(outputs,1)\n",
        "  return predicted.item()\n"
      ]
    },
    {
      "cell_type": "code",
      "execution_count": null,
      "metadata": {
        "colab": {
          "base_uri": "https://localhost:8080/",
          "height": 73
        },
        "id": "F4fWFDGI8sTL",
        "outputId": "562f267d-546f-445a-de55-233a219d7c95"
      },
      "outputs": [
        {
          "output_type": "display_data",
          "data": {
            "text/plain": [
              "<IPython.core.display.HTML object>"
            ],
            "text/html": [
              "\n",
              "     <input type=\"file\" id=\"files-58247d02-1732-48cd-8f5d-417b2fbbac23\" name=\"files[]\" multiple disabled\n",
              "        style=\"border:none\" />\n",
              "     <output id=\"result-58247d02-1732-48cd-8f5d-417b2fbbac23\">\n",
              "      Upload widget is only available when the cell has been executed in the\n",
              "      current browser session. Please rerun this cell to enable.\n",
              "      </output>\n",
              "      <script>// Copyright 2017 Google LLC\n",
              "//\n",
              "// Licensed under the Apache License, Version 2.0 (the \"License\");\n",
              "// you may not use this file except in compliance with the License.\n",
              "// You may obtain a copy of the License at\n",
              "//\n",
              "//      http://www.apache.org/licenses/LICENSE-2.0\n",
              "//\n",
              "// Unless required by applicable law or agreed to in writing, software\n",
              "// distributed under the License is distributed on an \"AS IS\" BASIS,\n",
              "// WITHOUT WARRANTIES OR CONDITIONS OF ANY KIND, either express or implied.\n",
              "// See the License for the specific language governing permissions and\n",
              "// limitations under the License.\n",
              "\n",
              "/**\n",
              " * @fileoverview Helpers for google.colab Python module.\n",
              " */\n",
              "(function(scope) {\n",
              "function span(text, styleAttributes = {}) {\n",
              "  const element = document.createElement('span');\n",
              "  element.textContent = text;\n",
              "  for (const key of Object.keys(styleAttributes)) {\n",
              "    element.style[key] = styleAttributes[key];\n",
              "  }\n",
              "  return element;\n",
              "}\n",
              "\n",
              "// Max number of bytes which will be uploaded at a time.\n",
              "const MAX_PAYLOAD_SIZE = 100 * 1024;\n",
              "\n",
              "function _uploadFiles(inputId, outputId) {\n",
              "  const steps = uploadFilesStep(inputId, outputId);\n",
              "  const outputElement = document.getElementById(outputId);\n",
              "  // Cache steps on the outputElement to make it available for the next call\n",
              "  // to uploadFilesContinue from Python.\n",
              "  outputElement.steps = steps;\n",
              "\n",
              "  return _uploadFilesContinue(outputId);\n",
              "}\n",
              "\n",
              "// This is roughly an async generator (not supported in the browser yet),\n",
              "// where there are multiple asynchronous steps and the Python side is going\n",
              "// to poll for completion of each step.\n",
              "// This uses a Promise to block the python side on completion of each step,\n",
              "// then passes the result of the previous step as the input to the next step.\n",
              "function _uploadFilesContinue(outputId) {\n",
              "  const outputElement = document.getElementById(outputId);\n",
              "  const steps = outputElement.steps;\n",
              "\n",
              "  const next = steps.next(outputElement.lastPromiseValue);\n",
              "  return Promise.resolve(next.value.promise).then((value) => {\n",
              "    // Cache the last promise value to make it available to the next\n",
              "    // step of the generator.\n",
              "    outputElement.lastPromiseValue = value;\n",
              "    return next.value.response;\n",
              "  });\n",
              "}\n",
              "\n",
              "/**\n",
              " * Generator function which is called between each async step of the upload\n",
              " * process.\n",
              " * @param {string} inputId Element ID of the input file picker element.\n",
              " * @param {string} outputId Element ID of the output display.\n",
              " * @return {!Iterable<!Object>} Iterable of next steps.\n",
              " */\n",
              "function* uploadFilesStep(inputId, outputId) {\n",
              "  const inputElement = document.getElementById(inputId);\n",
              "  inputElement.disabled = false;\n",
              "\n",
              "  const outputElement = document.getElementById(outputId);\n",
              "  outputElement.innerHTML = '';\n",
              "\n",
              "  const pickedPromise = new Promise((resolve) => {\n",
              "    inputElement.addEventListener('change', (e) => {\n",
              "      resolve(e.target.files);\n",
              "    });\n",
              "  });\n",
              "\n",
              "  const cancel = document.createElement('button');\n",
              "  inputElement.parentElement.appendChild(cancel);\n",
              "  cancel.textContent = 'Cancel upload';\n",
              "  const cancelPromise = new Promise((resolve) => {\n",
              "    cancel.onclick = () => {\n",
              "      resolve(null);\n",
              "    };\n",
              "  });\n",
              "\n",
              "  // Wait for the user to pick the files.\n",
              "  const files = yield {\n",
              "    promise: Promise.race([pickedPromise, cancelPromise]),\n",
              "    response: {\n",
              "      action: 'starting',\n",
              "    }\n",
              "  };\n",
              "\n",
              "  cancel.remove();\n",
              "\n",
              "  // Disable the input element since further picks are not allowed.\n",
              "  inputElement.disabled = true;\n",
              "\n",
              "  if (!files) {\n",
              "    return {\n",
              "      response: {\n",
              "        action: 'complete',\n",
              "      }\n",
              "    };\n",
              "  }\n",
              "\n",
              "  for (const file of files) {\n",
              "    const li = document.createElement('li');\n",
              "    li.append(span(file.name, {fontWeight: 'bold'}));\n",
              "    li.append(span(\n",
              "        `(${file.type || 'n/a'}) - ${file.size} bytes, ` +\n",
              "        `last modified: ${\n",
              "            file.lastModifiedDate ? file.lastModifiedDate.toLocaleDateString() :\n",
              "                                    'n/a'} - `));\n",
              "    const percent = span('0% done');\n",
              "    li.appendChild(percent);\n",
              "\n",
              "    outputElement.appendChild(li);\n",
              "\n",
              "    const fileDataPromise = new Promise((resolve) => {\n",
              "      const reader = new FileReader();\n",
              "      reader.onload = (e) => {\n",
              "        resolve(e.target.result);\n",
              "      };\n",
              "      reader.readAsArrayBuffer(file);\n",
              "    });\n",
              "    // Wait for the data to be ready.\n",
              "    let fileData = yield {\n",
              "      promise: fileDataPromise,\n",
              "      response: {\n",
              "        action: 'continue',\n",
              "      }\n",
              "    };\n",
              "\n",
              "    // Use a chunked sending to avoid message size limits. See b/62115660.\n",
              "    let position = 0;\n",
              "    do {\n",
              "      const length = Math.min(fileData.byteLength - position, MAX_PAYLOAD_SIZE);\n",
              "      const chunk = new Uint8Array(fileData, position, length);\n",
              "      position += length;\n",
              "\n",
              "      const base64 = btoa(String.fromCharCode.apply(null, chunk));\n",
              "      yield {\n",
              "        response: {\n",
              "          action: 'append',\n",
              "          file: file.name,\n",
              "          data: base64,\n",
              "        },\n",
              "      };\n",
              "\n",
              "      let percentDone = fileData.byteLength === 0 ?\n",
              "          100 :\n",
              "          Math.round((position / fileData.byteLength) * 100);\n",
              "      percent.textContent = `${percentDone}% done`;\n",
              "\n",
              "    } while (position < fileData.byteLength);\n",
              "  }\n",
              "\n",
              "  // All done.\n",
              "  yield {\n",
              "    response: {\n",
              "      action: 'complete',\n",
              "    }\n",
              "  };\n",
              "}\n",
              "\n",
              "scope.google = scope.google || {};\n",
              "scope.google.colab = scope.google.colab || {};\n",
              "scope.google.colab._files = {\n",
              "  _uploadFiles,\n",
              "  _uploadFilesContinue,\n",
              "};\n",
              "})(self);\n",
              "</script> "
            ]
          },
          "metadata": {}
        },
        {
          "output_type": "stream",
          "name": "stdout",
          "text": [
            "Saving ML.png to ML.png\n"
          ]
        }
      ],
      "source": [
        "from google.colab import files\n",
        "uploaded = files.upload()\n"
      ]
    },
    {
      "cell_type": "code",
      "execution_count": null,
      "metadata": {
        "colab": {
          "base_uri": "https://localhost:8080/",
          "height": 452
        },
        "id": "YyuLs_BO6-Xc",
        "outputId": "2be936d1-950c-4605-ff6b-cbb30d92c711"
      },
      "outputs": [
        {
          "output_type": "display_data",
          "data": {
            "text/plain": [
              "<Figure size 640x480 with 1 Axes>"
            ],
            "image/png": "[encoded data removed]"
          },
          "metadata": {}
        }
      ],
      "source": [
        "import matplotlib.pyplot as plt\n",
        "\n",
        "\n",
        "img_path = \"/content/ML_6.png\"\n",
        "\n",
        "predicted_class = test_single_img(img_path,model)\n",
        "\n",
        "img = Image.open(img_path)\n",
        "plt.imshow(img, cmap =\"gray\")\n",
        "plt.title(f\"Predicted class: {predicted_class}\")\n",
        "plt.show()"
      ]
    },
    {
      "cell_type": "code",
      "source": [
        "import seaborn as sns\n",
        "import matplotlib.pyplot as plt\n",
        "from sklearn.metrics import confusion_matrix\n",
        "import numpy as np\n",
        "\n",
        "cm = confusion_matrix(act_labels ,model_predicted )\n",
        "\n",
        "plt.figure(figsize =(10,7))\n",
        "sns.heatmap(cm,annot=True ,fmt ='g' ,cmap =\"Blues\" ,xticklabels=np.arange(10) ,yticklabels=np.arange(10))\n",
        "\n",
        "plt.title(\"Confusion Matrix\")\n",
        "plt.xlabel(\"Predicted, labels\")\n",
        "plt.xlabel(\"True labels\")\n",
        "plt.show()\n"
      ],
      "metadata": {
        "colab": {
          "base_uri": "https://localhost:8080/",
          "height": 641
        },
        "id": "qnVgPKZF7SSa",
        "outputId": "afa3446f-a6cc-4ea1-85d7-a5c400318ed2"
      },
      "execution_count": null,
      "outputs": [
        {
          "output_type": "display_data",
          "data": {
            "text/plain": [
              "<Figure size 1000x700 with 2 Axes>"
            ],
            "image/png": "[encoded data removed]"
          },
          "metadata": {}
        }
      ]
    }
  ],
  "metadata": {
    "colab": {
      "provenance": []
    },
    "kernelspec": {
      "display_name": "Python 3",
      "name": "python3"
    },
    "language_info": {
      "name": "python"
    }
  },
  "nbformat": 4,
  "nbformat_minor": 0
}